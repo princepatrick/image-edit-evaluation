{
 "cells": [
  {
   "cell_type": "code",
   "execution_count": 24,
   "metadata": {},
   "outputs": [
    {
     "name": "stdout",
     "output_type": "stream",
     "text": [
      "Requirement already satisfied: lpips in c:\\users\\princ\\appdata\\local\\programs\\python\\python311\\lib\\site-packages (0.1.4)\n",
      "Requirement already satisfied: torch>=0.4.0 in c:\\users\\princ\\appdata\\local\\programs\\python\\python311\\lib\\site-packages (from lpips) (2.2.2)\n",
      "Requirement already satisfied: torchvision>=0.2.1 in c:\\users\\princ\\appdata\\local\\programs\\python\\python311\\lib\\site-packages (from lpips) (0.17.2)\n",
      "Requirement already satisfied: numpy>=1.14.3 in c:\\users\\princ\\appdata\\local\\programs\\python\\python311\\lib\\site-packages (from lpips) (1.26.4)\n",
      "Requirement already satisfied: scipy>=1.0.1 in c:\\users\\princ\\appdata\\local\\programs\\python\\python311\\lib\\site-packages (from lpips) (1.12.0)\n",
      "Requirement already satisfied: tqdm>=4.28.1 in c:\\users\\princ\\appdata\\local\\programs\\python\\python311\\lib\\site-packages (from lpips) (4.66.2)\n",
      "Requirement already satisfied: filelock in c:\\users\\princ\\appdata\\local\\programs\\python\\python311\\lib\\site-packages (from torch>=0.4.0->lpips) (3.13.1)\n",
      "Requirement already satisfied: typing-extensions>=4.8.0 in c:\\users\\princ\\appdata\\local\\programs\\python\\python311\\lib\\site-packages (from torch>=0.4.0->lpips) (4.9.0)\n",
      "Requirement already satisfied: sympy in c:\\users\\princ\\appdata\\local\\programs\\python\\python311\\lib\\site-packages (from torch>=0.4.0->lpips) (1.12)\n",
      "Requirement already satisfied: networkx in c:\\users\\princ\\appdata\\local\\programs\\python\\python311\\lib\\site-packages (from torch>=0.4.0->lpips) (3.2.1)\n",
      "Requirement already satisfied: jinja2 in c:\\users\\princ\\appdata\\local\\programs\\python\\python311\\lib\\site-packages (from torch>=0.4.0->lpips) (3.1.3)\n",
      "Requirement already satisfied: fsspec in c:\\users\\princ\\appdata\\local\\programs\\python\\python311\\lib\\site-packages (from torch>=0.4.0->lpips) (2024.2.0)\n",
      "Requirement already satisfied: pillow!=8.3.*,>=5.3.0 in c:\\users\\princ\\appdata\\local\\programs\\python\\python311\\lib\\site-packages (from torchvision>=0.2.1->lpips) (10.2.0)\n",
      "Requirement already satisfied: colorama in c:\\users\\princ\\appdata\\roaming\\python\\python311\\site-packages (from tqdm>=4.28.1->lpips) (0.4.6)\n",
      "Requirement already satisfied: MarkupSafe>=2.0 in c:\\users\\princ\\appdata\\local\\programs\\python\\python311\\lib\\site-packages (from jinja2->torch>=0.4.0->lpips) (2.1.5)\n",
      "Requirement already satisfied: mpmath>=0.19 in c:\\users\\princ\\appdata\\local\\programs\\python\\python311\\lib\\site-packages (from sympy->torch>=0.4.0->lpips) (1.3.0)\n",
      "Note: you may need to restart the kernel to use updated packages.\n"
     ]
    },
    {
     "name": "stderr",
     "output_type": "stream",
     "text": [
      "\n",
      "[notice] A new release of pip is available: 23.2.1 -> 24.0\n",
      "[notice] To update, run: python.exe -m pip install --upgrade pip\n"
     ]
    }
   ],
   "source": [
    "pip install lpips"
   ]
  },
  {
   "cell_type": "code",
   "execution_count": 25,
   "metadata": {},
   "outputs": [],
   "source": [
    "import pandas as pd"
   ]
  },
  {
   "cell_type": "code",
   "execution_count": 26,
   "metadata": {},
   "outputs": [],
   "source": [
    "df = pd.DataFrame(columns=[\"Input File Name\", \"Output File Name\", \"LPIPS Similarity\"])"
   ]
  },
  {
   "cell_type": "code",
   "execution_count": 27,
   "metadata": {},
   "outputs": [],
   "source": [
    "from PIL import Image\n",
    "import torch\n",
    "import os"
   ]
  },
  {
   "cell_type": "code",
   "execution_count": 28,
   "metadata": {},
   "outputs": [],
   "source": [
    "import lpips"
   ]
  },
  {
   "cell_type": "code",
   "execution_count": 29,
   "metadata": {},
   "outputs": [
    {
     "name": "stdout",
     "output_type": "stream",
     "text": [
      "Setting up [LPIPS] perceptual loss: trunk [alex], v[0.1], spatial [off]\n"
     ]
    },
    {
     "name": "stderr",
     "output_type": "stream",
     "text": [
      "c:\\Users\\princ\\AppData\\Local\\Programs\\Python\\Python311\\Lib\\site-packages\\torchvision\\models\\_utils.py:208: UserWarning: The parameter 'pretrained' is deprecated since 0.13 and may be removed in the future, please use 'weights' instead.\n",
      "  warnings.warn(\n",
      "c:\\Users\\princ\\AppData\\Local\\Programs\\Python\\Python311\\Lib\\site-packages\\torchvision\\models\\_utils.py:223: UserWarning: Arguments other than a weight enum or `None` for 'weights' are deprecated since 0.13 and may be removed in the future. The current behavior is equivalent to passing `weights=AlexNet_Weights.IMAGENET1K_V1`. You can also use `weights=AlexNet_Weights.DEFAULT` to get the most up-to-date weights.\n",
      "  warnings.warn(msg)\n"
     ]
    },
    {
     "name": "stdout",
     "output_type": "stream",
     "text": [
      "Loading model from: c:\\Users\\princ\\AppData\\Local\\Programs\\Python\\Python311\\Lib\\site-packages\\lpips\\weights\\v0.1\\alex.pth\n"
     ]
    }
   ],
   "source": [
    "loss_fn_alex = lpips.LPIPS(net=\"alex\")"
   ]
  },
  {
   "cell_type": "code",
   "execution_count": 30,
   "metadata": {},
   "outputs": [],
   "source": [
    "from torchvision import transforms\n",
    "\n",
    "transform = transforms.Compose([transforms.Resize((256, 512)), transforms.ToTensor()])"
   ]
  },
  {
   "cell_type": "code",
   "execution_count": 31,
   "metadata": {},
   "outputs": [
    {
     "name": "stdout",
     "output_type": "stream",
     "text": [
      "Class01Img01 and Class01Img01Prompt01.PNG and similarity is 70.3471450805664\n",
      "Class01Img01 and Class01Img01Prompt02.PNG and similarity is 50.058292388916016\n",
      "Class01Img01 and Class01Img01Prompt03.PNG and similarity is 37.76375198364258\n",
      "Class01Img01 and Class01Img01Prompt04.PNG and similarity is 43.221187591552734\n"
     ]
    },
    {
     "name": "stderr",
     "output_type": "stream",
     "text": [
      "C:\\Users\\princ\\AppData\\Local\\Temp\\ipykernel_24516\\1305281535.py:20: FutureWarning: The behavior of DataFrame concatenation with empty or all-NA entries is deprecated. In a future version, this will no longer exclude empty or all-NA columns when determining the result dtypes. To retain the old behavior, exclude the relevant entries before the concat operation.\n",
      "  df = pd.concat([df, new_df], ignore_index=True)\n"
     ]
    },
    {
     "name": "stdout",
     "output_type": "stream",
     "text": [
      "Class01Img01 and Class01Img01Prompt05.PNG and similarity is 39.18021011352539\n",
      "Class01Img02 and Class01Img02Prompt01.PNG and similarity is 78.08506774902344\n",
      "Class01Img02 and Class01Img02Prompt02.PNG and similarity is 61.072654724121094\n",
      "Class01Img02 and Class01Img02Prompt03.PNG and similarity is 49.50563049316406\n",
      "Class01Img02 and Class01Img02Prompt04.PNG and similarity is 49.66310119628906\n",
      "Class01Img02 and Class01Img02Prompt05.PNG and similarity is 38.672218322753906\n",
      "Class01Img03 and Class01Img03Prompt01.PNG and similarity is 55.87620544433594\n",
      "Class01Img03 and Class01Img03Prompt02.PNG and similarity is 53.1269416809082\n",
      "Class01Img03 and Class01Img03Prompt03.PNG and similarity is 45.626914978027344\n",
      "Class01Img03 and Class01Img03Prompt04.PNG and similarity is 55.99491500854492\n",
      "Class01Img03 and Class01Img03Prompt05.PNG and similarity is 70.96392059326172\n",
      "Class01Img04 and Class01Img04Prompt01.PNG and similarity is 54.45767593383789\n",
      "Class01Img04 and Class01Img04Prompt02.PNG and similarity is 61.228363037109375\n",
      "Class01Img04 and Class01Img04Prompt03.PNG and similarity is 41.22597122192383\n",
      "Class01Img04 and Class01Img04Prompt04.PNG and similarity is 40.51324462890625\n",
      "Class01Img04 and Class01Img04Prompt05.PNG and similarity is 56.609378814697266\n",
      "Class01Img05 and Class01Img05Prompt01.PNG and similarity is 41.513343811035156\n",
      "Class01Img05 and Class01Img05Prompt02.PNG and similarity is 51.614986419677734\n",
      "Class01Img05 and Class01Img05Prompt03.PNG and similarity is 43.8675537109375\n",
      "Class01Img05 and Class01Img05Prompt04.PNG and similarity is 42.67945098876953\n",
      "Class01Img05 and Class01Img05Prompt05.PNG and similarity is 43.11600112915039\n",
      "Class03Img01 and Class03Img01Prompt01.PNG and similarity is 33.924476623535156\n",
      "Class03Img01 and Class03Img01Prompt02.PNG and similarity is 34.56772994995117\n",
      "Class03Img01 and Class03Img01Prompt03.PNG and similarity is 28.26530647277832\n",
      "Class03Img01 and Class03Img01Prompt04.PNG and similarity is 46.0610466003418\n",
      "Class03Img02 and Class03Img02Prompt01.PNG and similarity is 45.955909729003906\n",
      "Class03Img02 and Class03Img02Prompt02.PNG and similarity is 33.41217803955078\n",
      "Class03Img02 and Class03Img02Prompt03.PNG and similarity is 45.22942352294922\n",
      "Class03Img02 and Class03Img02Prompt04.PNG and similarity is 57.183128356933594\n",
      "Class03Img03 and Class03Img03Prompt01.PNG and similarity is 36.52267837524414\n",
      "Class03Img03 and Class03Img03Prompt02.PNG and similarity is 38.98817825317383\n",
      "Class03Img03 and Class03Img03Prompt03.PNG and similarity is 40.79939270019531\n",
      "Class03Img03 and Class03Img03Prompt04.PNG and similarity is 39.39529037475586\n",
      "Class03Img04 and Class03Img04Prompt01.PNG and similarity is 31.783905029296875\n",
      "Class03Img04 and Class03Img04Prompt02.PNG and similarity is 35.588871002197266\n",
      "Class03Img04 and Class03Img04Prompt03.PNG and similarity is 41.91869354248047\n",
      "Class03Img04 and Class03Img04Prompt04.PNG and similarity is 32.532588958740234\n",
      "Class03Img05 and Class03Img05Prompt01.PNG and similarity is 45.76552963256836\n",
      "Class03Img05 and Class03Img05Prompt02.PNG and similarity is 41.89792251586914\n",
      "Class03Img05 and Class03Img05Prompt03.PNG and similarity is 39.61311721801758\n",
      "Class03Img05 and Class03Img05Prompt04.PNG and similarity is 47.833221435546875\n",
      "Class04Img01 and Class04Img01Prompt01.PNG and similarity is 46.19095230102539\n",
      "Class04Img01 and Class04Img01Prompt02.PNG and similarity is 56.50783157348633\n",
      "Class04Img01 and Class04Img01Prompt03.PNG and similarity is 45.84454345703125\n",
      "Class04Img02 and Class04Img02Prompt01.PNG and similarity is 45.554405212402344\n",
      "Class04Img02 and Class04Img02Prompt02.PNG and similarity is 40.322364807128906\n",
      "Class04Img02 and Class04Img02Prompt03.PNG and similarity is 40.87189865112305\n",
      "Class04Img03 and Class04Img03Prompt01.PNG and similarity is 63.526527404785156\n",
      "Class04Img03 and Class04Img03Prompt02.PNG and similarity is 65.10482788085938\n",
      "Class04Img03 and Class04Img03Prompt03.PNG and similarity is 39.99171447753906\n",
      "Class04Img04 and Class04Img04Prompt01.PNG and similarity is 64.05204772949219\n",
      "Class04Img04 and Class04Img04Prompt02.PNG and similarity is 60.23825454711914\n",
      "Class04Img04 and Class04Img04Prompt03.PNG and similarity is 62.77252960205078\n",
      "Class04Img05 and Class04Img05Prompt01.PNG and similarity is 46.648399353027344\n",
      "Class04Img05 and Class04Img05Prompt02.PNG and similarity is 57.32410430908203\n",
      "Class04Img05 and Class04Img05Prompt03.PNG and similarity is 47.680931091308594\n",
      "Class05Img01 and Class05Img01Prompt01.PNG and similarity is 85.41188049316406\n",
      "Class05Img02 and Class05Img02Prompt01.PNG and similarity is 54.3365592956543\n",
      "Class05Img03 and Class05Img03Prompt01.PNG and similarity is 68.08623504638672\n",
      "Class05Img04 and Class05Img04Prompt01.PNG and similarity is 60.425411224365234\n",
      "Class05Img05 and Class05Img05Prompt01.PNG and similarity is 60.59212112426758\n",
      "Class06Img01 and Class06Img01Prompt01.PNG and similarity is 35.571998596191406\n",
      "Class06Img02 and Class06Img02Prompt01.PNG and similarity is 55.017311096191406\n",
      "Class06Img03 and Class06Img03Prompt01.PNG and similarity is 38.77296447753906\n",
      "Class06Img04 and Class06Img04Prompt01.PNG and similarity is 41.469032287597656\n",
      "Class06Img05 and Class06Img05Prompt01.PNG and similarity is 34.16291046142578\n",
      "Class07Img01 and Class07Img01Prompt02.PNG and similarity is 60.23893356323242\n",
      "Class07Img01 and Class07Img01Prompt03.PNG and similarity is 36.6160888671875\n",
      "Class07Img01 and Class07Img01Prompt04.PNG and similarity is 38.328460693359375\n",
      "Class07Img02 and Class07Img02Prompt02.PNG and similarity is 48.39727783203125\n",
      "Class07Img02 and Class07Img02Prompt03.PNG and similarity is 45.28075408935547\n",
      "Class07Img02 and Class07Img02Prompt04.PNG and similarity is 38.51513671875\n",
      "Class07Img03 and Class07Img03Prompt02.PNG and similarity is 64.59207153320312\n",
      "Class07Img03 and Class07Img03Prompt03.PNG and similarity is 54.81079864501953\n",
      "Class07Img03 and Class07Img03Prompt04.PNG and similarity is 51.222686767578125\n",
      "Class07Img04 and Class07Img04Prompt02.PNG and similarity is 58.64012145996094\n",
      "Class07Img04 and Class07Img04Prompt03.PNG and similarity is 37.35951614379883\n",
      "Class07Img04 and Class07Img04Prompt04.PNG and similarity is 39.50775909423828\n",
      "Class07Img05 and Class07Img05Prompt02.PNG and similarity is 44.27461624145508\n",
      "Class07Img05 and Class07Img05Prompt03.PNG and similarity is 34.98175811767578\n",
      "Class07Img05 and Class07Img05Prompt04.PNG and similarity is 44.655433654785156\n",
      "Class08Img01 and Class08Img01Prompt01.PNG and similarity is 68.66305541992188\n",
      "Class08Img01 and Class08Img01Prompt02.PNG and similarity is 49.22810363769531\n",
      "Class08Img01 and Class08Img01Prompt04.PNG and similarity is 35.14023208618164\n",
      "Class08Img02 and Class08Img02Prompt01.PNG and similarity is 51.01294708251953\n",
      "Class08Img02 and Class08Img02Prompt02.PNG and similarity is 38.99148178100586\n",
      "Class08Img02 and Class08Img02Prompt04.PNG and similarity is 41.37067413330078\n",
      "Class08Img03 and Class08Img03Prompt01.PNG and similarity is 68.50355529785156\n",
      "Class08Img03 and Class08Img03Prompt02.PNG and similarity is 63.12895965576172\n",
      "Class08Img03 and Class08Img03Prompt04.PNG and similarity is 62.68907928466797\n",
      "Class08Img04 and Class08Img04Prompt01.PNG and similarity is 70.47624969482422\n",
      "Class08Img04 and Class08Img04Prompt02.PNG and similarity is 48.32481384277344\n",
      "Class08Img04 and Class08Img04Prompt04.PNG and similarity is 42.384429931640625\n",
      "Class08Img05 and Class08Img05Prompt01.PNG and similarity is 49.54302215576172\n",
      "Class08Img05 and Class08Img05Prompt02.PNG and similarity is 42.036128997802734\n",
      "Class08Img05 and Class08Img05Prompt04.PNG and similarity is 43.0159912109375\n",
      "Class09Img01 and Class09Img01Prompt01.PNG and similarity is 75.84246063232422\n",
      "Class09Img01 and Class09Img01Prompt02.PNG and similarity is 78.35931396484375\n",
      "Class09Img01 and Class09Img01Prompt03.PNG and similarity is 66.37566375732422\n",
      "Class09Img01 and Class09Img01Prompt04.PNG and similarity is 70.8928451538086\n",
      "Class09Img02 and Class09Img02Prompt01.PNG and similarity is 56.46320724487305\n",
      "Class09Img02 and Class09Img02Prompt02.PNG and similarity is 62.945777893066406\n",
      "Class09Img02 and Class09Img02Prompt03.PNG and similarity is 52.41200256347656\n",
      "Class09Img02 and Class09Img02Prompt04.PNG and similarity is 66.28509521484375\n",
      "Class09Img03 and Class09Img03Prompt01.PNG and similarity is 53.83842086791992\n",
      "Class09Img03 and Class09Img03Prompt02.PNG and similarity is 64.91949462890625\n",
      "Class09Img03 and Class09Img03Prompt03.PNG and similarity is 55.19049072265625\n",
      "Class09Img03 and Class09Img03Prompt04.PNG and similarity is 53.168548583984375\n",
      "Class09Img04 and Class09Img04Prompt01.PNG and similarity is 64.23242950439453\n",
      "Class09Img04 and Class09Img04Prompt02.PNG and similarity is 62.45640563964844\n",
      "Class09Img04 and Class09Img04Prompt03.PNG and similarity is 48.28089904785156\n",
      "Class09Img04 and Class09Img04Prompt04.PNG and similarity is 35.57160949707031\n",
      "Class09Img05 and Class09Img05Prompt01.PNG and similarity is 66.24934387207031\n",
      "Class09Img05 and Class09Img05Prompt02.PNG and similarity is 80.30179595947266\n",
      "Class09Img05 and Class09Img05Prompt03.PNG and similarity is 67.83014678955078\n",
      "Class09Img05 and Class09Img05Prompt04.PNG and similarity is 66.61498260498047\n",
      "Class10Img01 and Class10Img01Prompt05.PNG and similarity is 43.80181121826172\n",
      "Class10Img02 and Class10Img02Prompt05.PNG and similarity is 41.04954147338867\n",
      "Class10Img03 and Class10Img03Prompt05.PNG and similarity is 50.97952651977539\n",
      "Class10Img04 and Class10Img04Prompt05.PNG and similarity is 44.30282211303711\n",
      "Class10Img05 and Class10Img05Prompt05.PNG and similarity is 61.44862747192383\n"
     ]
    }
   ],
   "source": [
    "for input_filename in os.listdir(r\"C:\\Users\\princ\\Downloads\\Image Dataset\\Image Classes\\InstructPix2Pix_Results_250Calls\\All Input Images Combined For Data Processing\"):\n",
    "    #print(input_filename[:-4])\n",
    "    input_file = input_filename[:-4]\n",
    "    input_file = input_file[:7] + input_file[-5:]\n",
    "    input_file_path = r\"C:\\Users\\princ\\Downloads\\Image Dataset\\Image Classes\\InstructPix2Pix_Results_250Calls\\All Input Images Combined For Data Processing\" + \"\\\\\" + input_filename\n",
    "    #print(input_file_path)\n",
    "    image1 = Image.open(input_file_path).convert('RGB')\n",
    "    tensor_img1 = transform(image1)\n",
    "    for output_filename in os.listdir(r\"C:\\Users\\princ\\Downloads\\Image Dataset\\Image Classes\\ControlNet\\Similar Image Results Combined\"):\n",
    "        if output_filename.startswith(input_file):\n",
    "            output_filepath = r\"C:\\Users\\princ\\Downloads\\Image Dataset\\Image Classes\\ControlNet\\Similar Image Results Combined\\\\\" + output_filename\n",
    "            image2 = Image.open(output_filepath).convert('RGB')\n",
    "            tensor_img2 = transform(image2)\n",
    "            lpips_score = loss_fn_alex( tensor_img1, tensor_img2 )\n",
    "            lpips_score = (lpips_score[0][0][0][0] * 100)\n",
    "            lpips_score = lpips_score.item()\n",
    "            new_row = {\"Input File Name\":input_filename, \"Output File Name\":output_filename, \"LPIPS Similarity\":lpips_score}\n",
    "            print(f\"{input_file} and {output_filename} and similarity is {lpips_score}\")\n",
    "            new_df = pd.DataFrame([new_row])\n",
    "            df = pd.concat([df, new_df], ignore_index=True)\n",
    "            "
   ]
  },
  {
   "cell_type": "code",
   "execution_count": 14,
   "metadata": {},
   "outputs": [
    {
     "name": "stdout",
     "output_type": "stream",
     "text": [
      "27.40396499633789\n"
     ]
    }
   ],
   "source": [
    "input_file_path = r\"C:\\Users\\princ\\Downloads\\Image Dataset\\Image Classes\\InstructPix2Pix_Results_250Calls\\All Input Images Combined For Data Processing\\Class01_Img01.jpg\"\n",
    "image1 = Image.open(input_file_path).convert('RGB')\n",
    "tensor_img1 = transform(image1)\n",
    "output_filepath = r\"C:\\Users\\princ\\Downloads\\Image Dataset\\Image Classes\\Plug and Play 250 calls\\Similar Image Results Combined\\Class01_Img01_Prompt01.png\"\n",
    "image2 = Image.open(output_filepath).convert('RGB')\n",
    "tensor_img2 = transform(image2)\n",
    "lpips_score = loss_fn_alex( tensor_img1, tensor_img2 )\n",
    "lpips_score = (lpips_score[0][0][0][0] * 100)\n",
    "lpips_score = lpips_score.item()\n",
    "print(lpips_score)\n"
   ]
  },
  {
   "cell_type": "code",
   "execution_count": 22,
   "metadata": {},
   "outputs": [
    {
     "data": {
      "text/html": [
       "<div>\n",
       "<style scoped>\n",
       "    .dataframe tbody tr th:only-of-type {\n",
       "        vertical-align: middle;\n",
       "    }\n",
       "\n",
       "    .dataframe tbody tr th {\n",
       "        vertical-align: top;\n",
       "    }\n",
       "\n",
       "    .dataframe thead th {\n",
       "        text-align: right;\n",
       "    }\n",
       "</style>\n",
       "<table border=\"1\" class=\"dataframe\">\n",
       "  <thead>\n",
       "    <tr style=\"text-align: right;\">\n",
       "      <th></th>\n",
       "      <th>Input File Name</th>\n",
       "      <th>Output File Name</th>\n",
       "      <th>LPIPS Similarity</th>\n",
       "    </tr>\n",
       "  </thead>\n",
       "  <tbody>\n",
       "    <tr>\n",
       "      <th>0</th>\n",
       "      <td>Class01_Img01.jpg</td>\n",
       "      <td>Class01Img01Prompt01.PNG</td>\n",
       "      <td>70.347145</td>\n",
       "    </tr>\n",
       "    <tr>\n",
       "      <th>1</th>\n",
       "      <td>Class01_Img01.jpg</td>\n",
       "      <td>Class01Img01Prompt02.PNG</td>\n",
       "      <td>50.058292</td>\n",
       "    </tr>\n",
       "    <tr>\n",
       "      <th>2</th>\n",
       "      <td>Class01_Img01.jpg</td>\n",
       "      <td>Class01Img01Prompt03.PNG</td>\n",
       "      <td>37.763752</td>\n",
       "    </tr>\n",
       "    <tr>\n",
       "      <th>3</th>\n",
       "      <td>Class01_Img01.jpg</td>\n",
       "      <td>Class01Img01Prompt04.PNG</td>\n",
       "      <td>43.221188</td>\n",
       "    </tr>\n",
       "    <tr>\n",
       "      <th>4</th>\n",
       "      <td>Class01_Img01.jpg</td>\n",
       "      <td>Class01Img01Prompt05.PNG</td>\n",
       "      <td>39.180210</td>\n",
       "    </tr>\n",
       "  </tbody>\n",
       "</table>\n",
       "</div>"
      ],
      "text/plain": [
       "     Input File Name          Output File Name  LPIPS Similarity\n",
       "0  Class01_Img01.jpg  Class01Img01Prompt01.PNG         70.347145\n",
       "1  Class01_Img01.jpg  Class01Img01Prompt02.PNG         50.058292\n",
       "2  Class01_Img01.jpg  Class01Img01Prompt03.PNG         37.763752\n",
       "3  Class01_Img01.jpg  Class01Img01Prompt04.PNG         43.221188\n",
       "4  Class01_Img01.jpg  Class01Img01Prompt05.PNG         39.180210"
      ]
     },
     "execution_count": 22,
     "metadata": {},
     "output_type": "execute_result"
    }
   ],
   "source": [
    "df.head(5)"
   ]
  },
  {
   "cell_type": "code",
   "execution_count": 23,
   "metadata": {},
   "outputs": [],
   "source": [
    "df.to_csv(\"C:\\\\Users\\\\princ\\\\Downloads\\\\Image Dataset\\\\Image Classes\\\\ControlNet\\\\Results\\\\Similar_LPIPS_Results.csv\")"
   ]
  },
  {
   "cell_type": "code",
   "execution_count": 45,
   "metadata": {},
   "outputs": [
    {
     "name": "stdout",
     "output_type": "stream",
     "text": [
      "C:\\Users\\princ\\Downloads\\Image Dataset\\Image Classes\\InstructPix2Pix_Results_250Calls\\All Input Images Combined For Data Processing\\Class01_Img01.jpg\n"
     ]
    }
   ],
   "source": [
    "input_file_path = \"C:\\\\Users\\\\princ\\\\Downloads\\\\Image Dataset\\\\Image Classes\\\\InstructPix2Pix_Results_250Calls\\\\All Input Images Combined For Data Processing\\\\Class01_Img01.jpg\"\n",
    "print(input_file_path)\n",
    "image1 = Image.open(input_file_path).convert('RGB')\n",
    "tensor_img1 = transform(image1)\n",
    "output_filepath = \"C:\\\\Users\\\\princ\\\\Downloads\\\\Image Dataset\\\\Image Classes\\\\InstructPix2Pix_Results_250Calls\\\\All Results Combined For Data Processing\\\\Class01_Img01_Prompt01.png\"\n",
    "image2 = Image.open(output_filepath).convert('RGB')\n",
    "tensor_img2 = transform(image2)\n",
    "lpips_score = loss_fn_alex( tensor_img1, tensor_img2 )[0][0][0][0] * 100  \n"
   ]
  },
  {
   "cell_type": "code",
   "execution_count": 46,
   "metadata": {},
   "outputs": [
    {
     "name": "stdout",
     "output_type": "stream",
     "text": [
      "tensor(12.8510, grad_fn=<MulBackward0>)\n"
     ]
    }
   ],
   "source": [
    "print(lpips_score)"
   ]
  },
  {
   "cell_type": "code",
   "execution_count": 48,
   "metadata": {},
   "outputs": [
    {
     "data": {
      "text/plain": [
       "12.850992202758789"
      ]
     },
     "execution_count": 48,
     "metadata": {},
     "output_type": "execute_result"
    }
   ],
   "source": [
    "lpips_score.item()"
   ]
  }
 ],
 "metadata": {
  "kernelspec": {
   "display_name": "Python 3",
   "language": "python",
   "name": "python3"
  },
  "language_info": {
   "codemirror_mode": {
    "name": "ipython",
    "version": 3
   },
   "file_extension": ".py",
   "mimetype": "text/x-python",
   "name": "python",
   "nbconvert_exporter": "python",
   "pygments_lexer": "ipython3",
   "version": "3.11.5"
  }
 },
 "nbformat": 4,
 "nbformat_minor": 2
}
